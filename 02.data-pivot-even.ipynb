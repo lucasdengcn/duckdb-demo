{
 "cells": [
  {
   "cell_type": "code",
   "execution_count": 1,
   "metadata": {},
   "outputs": [],
   "source": [
    "import duckdb\n",
    "# duckdb.read_csv(\"example.csv\")                # read a CSV file into a Relation\n",
    "# duckdb.read_parquet(\"example.parquet\")        # read a Parquet file into a Relation\n",
    "# duckdb.read_json(\"example.json\")              # read a JSON file into a Relation\n",
    "\n",
    "# duckdb.sql(\"SELECT * FROM 'example.csv'\")     # directly query a CSV file\n",
    "# duckdb.sql(\"SELECT * FROM 'example.parquet'\") # directly query a Parquet file\n",
    "# duckdb.sql(\"SELECT * FROM 'example.json'\")    # directly query a JSON file"
   ]
  },
  {
   "cell_type": "code",
   "execution_count": 2,
   "metadata": {},
   "outputs": [],
   "source": [
    "con = duckdb.connect(\"file.db\")"
   ]
  },
  {
   "cell_type": "code",
   "execution_count": 6,
   "metadata": {},
   "outputs": [
    {
     "data": {
      "text/plain": [
       "┌──────────┬────────────┬──────────────────────────────────────────────────────────────────────────────────────────────┐\n",
       "│ deviceId │ timestamp  │                                           metrics                                            │\n",
       "│  int64   │   int64    │                  struct(\"name\" varchar, tagindex bigint, tagvalue double)[]                  │\n",
       "├──────────┼────────────┼──────────────────────────────────────────────────────────────────────────────────────────────┤\n",
       "│     5880 │ 1723170332 │ [{'name': A1, 'tagIndex': 1, 'tagValue': 9464.665648947313}, {'name': A2, 'tagIndex': 2, '…  │\n",
       "│     2416 │ 1723170332 │ [{'name': A1, 'tagIndex': 1, 'tagValue': 707.8517778206106}, {'name': A2, 'tagIndex': 2, '…  │\n",
       "│     1566 │ 1723170332 │ [{'name': A1, 'tagIndex': 1, 'tagValue': 9512.683448648495}, {'name': A2, 'tagIndex': 2, '…  │\n",
       "│     5935 │ 1723170332 │ [{'name': A1, 'tagIndex': 1, 'tagValue': 8121.450749149209}, {'name': A2, 'tagIndex': 2, '…  │\n",
       "│     7902 │ 1723170332 │ [{'name': A1, 'tagIndex': 1, 'tagValue': 105.00557549226298}, {'name': A2, 'tagIndex': 2, …  │\n",
       "│     8093 │ 1723170332 │ [{'name': A1, 'tagIndex': 1, 'tagValue': 4978.825428528596}, {'name': A2, 'tagIndex': 2, '…  │\n",
       "│     4404 │ 1723170332 │ [{'name': A1, 'tagIndex': 1, 'tagValue': 9517.432054526838}, {'name': A2, 'tagIndex': 2, '…  │\n",
       "│     7223 │ 1723170332 │ [{'name': A1, 'tagIndex': 1, 'tagValue': 1107.3759241229786}, {'name': A2, 'tagIndex': 2, …  │\n",
       "│     5791 │ 1723170332 │ [{'name': A1, 'tagIndex': 1, 'tagValue': 3755.818278437377}, {'name': A2, 'tagIndex': 2, '…  │\n",
       "│     5582 │ 1723170332 │ [{'name': A1, 'tagIndex': 1, 'tagValue': 2615.8149738755187}, {'name': A2, 'tagIndex': 2, …  │\n",
       "│       ·  │      ·     │                                              ·                                               │\n",
       "│       ·  │      ·     │                                              ·                                               │\n",
       "│       ·  │      ·     │                                              ·                                               │\n",
       "│     2535 │ 1723170332 │ [{'name': A1, 'tagIndex': 1, 'tagValue': 4503.9867632746555}, {'name': A2, 'tagIndex': 2, …  │\n",
       "│     3710 │ 1723170332 │ [{'name': A1, 'tagIndex': 1, 'tagValue': 761.134788282779}, {'name': A2, 'tagIndex': 2, 't…  │\n",
       "│     9923 │ 1723170332 │ [{'name': A1, 'tagIndex': 1, 'tagValue': 4142.612338939842}, {'name': A2, 'tagIndex': 2, '…  │\n",
       "│     4605 │ 1723170332 │ [{'name': A1, 'tagIndex': 1, 'tagValue': 1021.3320274995585}, {'name': A2, 'tagIndex': 2, …  │\n",
       "│     8748 │ 1723170332 │ [{'name': A1, 'tagIndex': 1, 'tagValue': 9575.81255866193}, {'name': A2, 'tagIndex': 2, 't…  │\n",
       "│     1896 │ 1723170332 │ [{'name': A1, 'tagIndex': 1, 'tagValue': 2590.9180639817787}, {'name': A2, 'tagIndex': 2, …  │\n",
       "│     2561 │ 1723170332 │ [{'name': A1, 'tagIndex': 1, 'tagValue': 5559.399227388616}, {'name': A2, 'tagIndex': 2, '…  │\n",
       "│     5660 │ 1723170332 │ [{'name': A1, 'tagIndex': 1, 'tagValue': 9932.71302218709}, {'name': A2, 'tagIndex': 2, 't…  │\n",
       "│     3864 │ 1723170332 │ [{'name': A1, 'tagIndex': 1, 'tagValue': 970.1960954039057}, {'name': A2, 'tagIndex': 2, '…  │\n",
       "│     6753 │ 1723170332 │ [{'name': A1, 'tagIndex': 1, 'tagValue': 4999.463785345595}, {'name': A2, 'tagIndex': 2, '…  │\n",
       "├──────────┴────────────┴──────────────────────────────────────────────────────────────────────────────────────────────┤\n",
       "│ 100 rows (20 shown)                                                                                        3 columns │\n",
       "└──────────────────────────────────────────────────────────────────────────────────────────────────────────────────────┘"
      ]
     },
     "execution_count": 6,
     "metadata": {},
     "output_type": "execute_result"
    }
   ],
   "source": [
    "con.read_json(\"./io_test_data.json\", format = 'unstructured')"
   ]
  },
  {
   "cell_type": "code",
   "execution_count": 7,
   "metadata": {},
   "outputs": [
    {
     "data": {
      "text/plain": [
       "┌──────────┬────────────┬──────────────────────────────────────────────────────────────────────────────────────────────┐\n",
       "│ deviceId │ timestamp  │                                           metrics                                            │\n",
       "│  int64   │   int64    │                  struct(\"name\" varchar, tagindex bigint, tagvalue double)[]                  │\n",
       "├──────────┼────────────┼──────────────────────────────────────────────────────────────────────────────────────────────┤\n",
       "│     5880 │ 1723170332 │ [{'name': A1, 'tagIndex': 1, 'tagValue': 9464.665648947313}, {'name': A2, 'tagIndex': 2, '…  │\n",
       "│     2416 │ 1723170332 │ [{'name': A1, 'tagIndex': 1, 'tagValue': 707.8517778206106}, {'name': A2, 'tagIndex': 2, '…  │\n",
       "│     1566 │ 1723170332 │ [{'name': A1, 'tagIndex': 1, 'tagValue': 9512.683448648495}, {'name': A2, 'tagIndex': 2, '…  │\n",
       "│     5935 │ 1723170332 │ [{'name': A1, 'tagIndex': 1, 'tagValue': 8121.450749149209}, {'name': A2, 'tagIndex': 2, '…  │\n",
       "│     7902 │ 1723170332 │ [{'name': A1, 'tagIndex': 1, 'tagValue': 105.00557549226298}, {'name': A2, 'tagIndex': 2, …  │\n",
       "│     8093 │ 1723170332 │ [{'name': A1, 'tagIndex': 1, 'tagValue': 4978.825428528596}, {'name': A2, 'tagIndex': 2, '…  │\n",
       "│     4404 │ 1723170332 │ [{'name': A1, 'tagIndex': 1, 'tagValue': 9517.432054526838}, {'name': A2, 'tagIndex': 2, '…  │\n",
       "│     7223 │ 1723170332 │ [{'name': A1, 'tagIndex': 1, 'tagValue': 1107.3759241229786}, {'name': A2, 'tagIndex': 2, …  │\n",
       "│     5791 │ 1723170332 │ [{'name': A1, 'tagIndex': 1, 'tagValue': 3755.818278437377}, {'name': A2, 'tagIndex': 2, '…  │\n",
       "│     5582 │ 1723170332 │ [{'name': A1, 'tagIndex': 1, 'tagValue': 2615.8149738755187}, {'name': A2, 'tagIndex': 2, …  │\n",
       "│       ·  │      ·     │                                              ·                                               │\n",
       "│       ·  │      ·     │                                              ·                                               │\n",
       "│       ·  │      ·     │                                              ·                                               │\n",
       "│     2535 │ 1723170332 │ [{'name': A1, 'tagIndex': 1, 'tagValue': 4503.9867632746555}, {'name': A2, 'tagIndex': 2, …  │\n",
       "│     3710 │ 1723170332 │ [{'name': A1, 'tagIndex': 1, 'tagValue': 761.134788282779}, {'name': A2, 'tagIndex': 2, 't…  │\n",
       "│     9923 │ 1723170332 │ [{'name': A1, 'tagIndex': 1, 'tagValue': 4142.612338939842}, {'name': A2, 'tagIndex': 2, '…  │\n",
       "│     4605 │ 1723170332 │ [{'name': A1, 'tagIndex': 1, 'tagValue': 1021.3320274995585}, {'name': A2, 'tagIndex': 2, …  │\n",
       "│     8748 │ 1723170332 │ [{'name': A1, 'tagIndex': 1, 'tagValue': 9575.81255866193}, {'name': A2, 'tagIndex': 2, 't…  │\n",
       "│     1896 │ 1723170332 │ [{'name': A1, 'tagIndex': 1, 'tagValue': 2590.9180639817787}, {'name': A2, 'tagIndex': 2, …  │\n",
       "│     2561 │ 1723170332 │ [{'name': A1, 'tagIndex': 1, 'tagValue': 5559.399227388616}, {'name': A2, 'tagIndex': 2, '…  │\n",
       "│     5660 │ 1723170332 │ [{'name': A1, 'tagIndex': 1, 'tagValue': 9932.71302218709}, {'name': A2, 'tagIndex': 2, 't…  │\n",
       "│     3864 │ 1723170332 │ [{'name': A1, 'tagIndex': 1, 'tagValue': 970.1960954039057}, {'name': A2, 'tagIndex': 2, '…  │\n",
       "│     6753 │ 1723170332 │ [{'name': A1, 'tagIndex': 1, 'tagValue': 4999.463785345595}, {'name': A2, 'tagIndex': 2, '…  │\n",
       "├──────────┴────────────┴──────────────────────────────────────────────────────────────────────────────────────────────┤\n",
       "│ 100 rows (20 shown)                                                                                        3 columns │\n",
       "└──────────────────────────────────────────────────────────────────────────────────────────────────────────────────────┘"
      ]
     },
     "execution_count": 7,
     "metadata": {},
     "output_type": "execute_result"
    }
   ],
   "source": [
    "sql = \"SELECT * FROM './io_test_data.json'\"\n",
    "con.sql(sql)"
   ]
  },
  {
   "cell_type": "code",
   "execution_count": 22,
   "metadata": {},
   "outputs": [
    {
     "data": {
      "text/plain": [
       "┌──────────┬────────────┬─────────────────────────────────────────────────────────────────┐\n",
       "│ deviceId │ timestamp  │                             metric                              │\n",
       "│  int64   │   int64    │    struct(\"name\" varchar, tagindex bigint, tagvalue double)     │\n",
       "├──────────┼────────────┼─────────────────────────────────────────────────────────────────┤\n",
       "│     5880 │ 1723170332 │ {'name': A1, 'tagIndex': 1, 'tagValue': 9464.665648947313}      │\n",
       "│     5880 │ 1723170332 │ {'name': A2, 'tagIndex': 2, 'tagValue': 7445.954394495071}      │\n",
       "│     5880 │ 1723170332 │ {'name': A3, 'tagIndex': 3, 'tagValue': 4981.610671865472}      │\n",
       "│     5880 │ 1723170332 │ {'name': A4, 'tagIndex': 4, 'tagValue': 4278.567188264892}      │\n",
       "│     5880 │ 1723170332 │ {'name': A5, 'tagIndex': 5, 'tagValue': 8564.825901347784}      │\n",
       "│     5880 │ 1723170332 │ {'name': A6, 'tagIndex': 6, 'tagValue': 5289.177111915427}      │\n",
       "│     5880 │ 1723170332 │ {'name': A7, 'tagIndex': 7, 'tagValue': 3109.5802370370106}     │\n",
       "│     5880 │ 1723170332 │ {'name': A8, 'tagIndex': 8, 'tagValue': 7208.7505718467355}     │\n",
       "│     5880 │ 1723170332 │ {'name': A9, 'tagIndex': 9, 'tagValue': 8517.361056392974}      │\n",
       "│     5880 │ 1723170332 │ {'name': A10, 'tagIndex': 10, 'tagValue': 4282.319365783478}    │\n",
       "│       ·  │      ·     │                              ·                                  │\n",
       "│       ·  │      ·     │                              ·                                  │\n",
       "│       ·  │      ·     │                              ·                                  │\n",
       "│     6753 │ 1723170332 │ {'name': A91, 'tagIndex': 91, 'tagValue': 8142.971171838071}    │\n",
       "│     6753 │ 1723170332 │ {'name': A92, 'tagIndex': 92, 'tagValue': 2110.450825376794}    │\n",
       "│     6753 │ 1723170332 │ {'name': A93, 'tagIndex': 93, 'tagValue': 756.6299447550517}    │\n",
       "│     6753 │ 1723170332 │ {'name': A94, 'tagIndex': 94, 'tagValue': 5176.285332691001}    │\n",
       "│     6753 │ 1723170332 │ {'name': A95, 'tagIndex': 95, 'tagValue': 557.5469868701077}    │\n",
       "│     6753 │ 1723170332 │ {'name': A96, 'tagIndex': 96, 'tagValue': 5995.248225318542}    │\n",
       "│     6753 │ 1723170332 │ {'name': A97, 'tagIndex': 97, 'tagValue': 14.094477108541614}   │\n",
       "│     6753 │ 1723170332 │ {'name': A98, 'tagIndex': 98, 'tagValue': 2403.115271178057}    │\n",
       "│     6753 │ 1723170332 │ {'name': A99, 'tagIndex': 99, 'tagValue': 1884.035714693819}    │\n",
       "│     6753 │ 1723170332 │ {'name': A100, 'tagIndex': 100, 'tagValue': 148.53966733839763} │\n",
       "├──────────┴────────────┴─────────────────────────────────────────────────────────────────┤\n",
       "│ ? rows (>9999 rows, 20 shown)                                                 3 columns │\n",
       "└─────────────────────────────────────────────────────────────────────────────────────────┘"
      ]
     },
     "execution_count": 22,
     "metadata": {},
     "output_type": "execute_result"
    }
   ],
   "source": [
    "# SELECT json_transform(j, '{\"family\": \"TINYINT\", \"coolness\": \"DECIMAL(4, 2)\"}') FROM example;\n",
    "\n",
    "sql = \"SELECT deviceId, timestamp, UNNEST(metrics) as metric_item FROM './io_test_data.json'\"\n",
    "con.sql(sql)"
   ]
  },
  {
   "cell_type": "code",
   "execution_count": 27,
   "metadata": {},
   "outputs": [
    {
     "data": {
      "text/plain": [
       "┌──────────┬────────────┬─────────┬──────────┬────────────────────┐\n",
       "│ deviceId │ timestamp  │  name   │ tagIndex │      tagValue      │\n",
       "│  int64   │   int64    │ varchar │  int64   │       double       │\n",
       "├──────────┼────────────┼─────────┼──────────┼────────────────────┤\n",
       "│     5880 │ 1723170332 │ A1      │        1 │  9464.665648947313 │\n",
       "│     5880 │ 1723170332 │ A2      │        2 │  7445.954394495071 │\n",
       "│     5880 │ 1723170332 │ A3      │        3 │  4981.610671865472 │\n",
       "│     5880 │ 1723170332 │ A4      │        4 │  4278.567188264892 │\n",
       "│     5880 │ 1723170332 │ A5      │        5 │  8564.825901347784 │\n",
       "│     5880 │ 1723170332 │ A6      │        6 │  5289.177111915427 │\n",
       "│     5880 │ 1723170332 │ A7      │        7 │ 3109.5802370370106 │\n",
       "│     5880 │ 1723170332 │ A8      │        8 │ 7208.7505718467355 │\n",
       "│     5880 │ 1723170332 │ A9      │        9 │  8517.361056392974 │\n",
       "│     5880 │ 1723170332 │ A10     │       10 │  4282.319365783478 │\n",
       "│       ·  │      ·     │  ·      │        · │          ·         │\n",
       "│       ·  │      ·     │  ·      │        · │          ·         │\n",
       "│       ·  │      ·     │  ·      │        · │          ·         │\n",
       "│     6753 │ 1723170332 │ A91     │       91 │  8142.971171838071 │\n",
       "│     6753 │ 1723170332 │ A92     │       92 │  2110.450825376794 │\n",
       "│     6753 │ 1723170332 │ A93     │       93 │  756.6299447550517 │\n",
       "│     6753 │ 1723170332 │ A94     │       94 │  5176.285332691001 │\n",
       "│     6753 │ 1723170332 │ A95     │       95 │  557.5469868701077 │\n",
       "│     6753 │ 1723170332 │ A96     │       96 │  5995.248225318542 │\n",
       "│     6753 │ 1723170332 │ A97     │       97 │ 14.094477108541614 │\n",
       "│     6753 │ 1723170332 │ A98     │       98 │  2403.115271178057 │\n",
       "│     6753 │ 1723170332 │ A99     │       99 │  1884.035714693819 │\n",
       "│     6753 │ 1723170332 │ A100    │      100 │ 148.53966733839763 │\n",
       "├──────────┴────────────┴─────────┴──────────┴────────────────────┤\n",
       "│ ? rows (>9999 rows, 20 shown)                         5 columns │\n",
       "└─────────────────────────────────────────────────────────────────┘"
      ]
     },
     "execution_count": 27,
     "metadata": {},
     "output_type": "execute_result"
    }
   ],
   "source": [
    "sql = \"select deviceId, timestamp, unnest(metric_item) from (SELECT deviceId, timestamp, UNNEST(metrics) as metric_item FROM './io_test_data.json')\"\n",
    "con.sql(sql)"
   ]
  },
  {
   "cell_type": "code",
   "execution_count": 30,
   "metadata": {},
   "outputs": [],
   "source": [
    "# PIVOT Cities\n",
    "# ON Year IN (2000, 2010)\n",
    "# USING sum(Population)\n",
    "# GROUP BY Country;\n",
    "\n",
    "sql = \"\"\"\n",
    "CREATE TABLE device_iot_01 AS\n",
    "PIVOT (\n",
    "    select deviceId, timestamp, unnest(metric_item) from \n",
    "        (SELECT deviceId, timestamp, UNNEST(metrics) as metric_item FROM '../data/io_test_data.json')\n",
    ")\n",
    "ON name\n",
    "USING first(tagValue)\n",
    "GROUP BY deviceId, timestamp\n",
    "\"\"\"\n",
    "\n",
    "con.sql(sql)"
   ]
  },
  {
   "cell_type": "code",
   "execution_count": 26,
   "metadata": {},
   "outputs": [
    {
     "data": {
      "text/plain": [
       "┌───────┬───────┐\n",
       "│   a   │   b   │\n",
       "│ int32 │ int32 │\n",
       "├───────┼───────┤\n",
       "│    42 │    84 │\n",
       "└───────┴───────┘"
      ]
     },
     "execution_count": 26,
     "metadata": {},
     "output_type": "execute_result"
    }
   ],
   "source": [
    "con.sql(\"SELECT unnest({'a': 42, 'b': 84});\")"
   ]
  },
  {
   "cell_type": "code",
   "execution_count": 31,
   "metadata": {},
   "outputs": [
    {
     "data": {
      "text/plain": [
       "┌──────────┬────────────┬────────────────────┬───┬────────────────────┬────────────────────┬────────────────────┐\n",
       "│ deviceId │ timestamp  │         A1         │ … │        A97         │        A98         │        A99         │\n",
       "│  int64   │   int64    │       double       │   │       double       │       double       │       double       │\n",
       "├──────────┼────────────┼────────────────────┼───┼────────────────────┼────────────────────┼────────────────────┤\n",
       "│     4404 │ 1723170332 │  9517.432054526838 │ … │ 160.64571717921194 │ 3786.4163403832385 │  4319.004590433276 │\n",
       "│     9930 │ 1723170332 │  6730.674911890311 │ … │  5893.709011263243 │  4513.011239819236 │ 3871.7841386314235 │\n",
       "│     1692 │ 1723170332 │   8342.33560917053 │ … │ 338.76559766456535 │  7863.826905875481 │ 4476.6836211069185 │\n",
       "│     5556 │ 1723170332 │  864.7845424211165 │ … │  4270.303369826512 │  6839.437938838715 │  5715.543266455876 │\n",
       "│     1624 │ 1723170332 │  9687.112461252838 │ … │ 3874.6003290131316 │  5037.125270082039 │   3559.17725292592 │\n",
       "│     6997 │ 1723170332 │  832.2075504299853 │ … │  4528.869677964926 │  6434.841238827718 │  7567.733571539233 │\n",
       "│     4861 │ 1723170332 │  7026.854106294157 │ … │  9690.619067012043 │ 1119.4112097032737 │  7987.013704388959 │\n",
       "│     6642 │ 1723170332 │  826.1253393004164 │ … │  4883.325332364995 │  7960.334100326426 │  1653.293920393034 │\n",
       "│     2615 │ 1723170332 │  7495.121328894792 │ … │  8016.406118883823 │  7336.622727418187 │   9967.29067001723 │\n",
       "│     6548 │ 1723170332 │  7599.710110950616 │ … │  6927.696092011616 │  4491.101052283032 │ 1659.2739053278283 │\n",
       "│       ·  │      ·     │           ·        │ · │          ·         │          ·         │          ·         │\n",
       "│       ·  │      ·     │           ·        │ · │          ·         │          ·         │          ·         │\n",
       "│       ·  │      ·     │           ·        │ · │          ·         │          ·         │          ·         │\n",
       "│     3829 │ 1723170332 │   9679.36767628218 │ … │ 4526.6575585742075 │ 1890.9640964761543 │ 1398.1646922345037 │\n",
       "│     3702 │ 1723170332 │   1405.36109874297 │ … │ 2273.4047520109257 │  9784.343553517476 │  8260.439421110874 │\n",
       "│     3299 │ 1723170332 │  7936.356915757184 │ … │  2704.573712101667 │  4260.138457454865 │   8961.49824743797 │\n",
       "│     2823 │ 1723170332 │  4992.851179693521 │ … │  2503.776701861099 │  9709.800082087055 │  4596.368445657947 │\n",
       "│     6122 │ 1723170332 │  8689.969178343279 │ … │  9887.638558728597 │  8379.671402386604 │  5453.415033761169 │\n",
       "│     7503 │ 1723170332 │   5797.85128596028 │ … │  9286.395570273891 │    5331.7050067265 │ 1763.3092770990188 │\n",
       "│     1999 │ 1723170332 │ 2496.8910106316257 │ … │  9607.010823853201 │  4749.318662965889 │  9947.063292465298 │\n",
       "│     8182 │ 1723170332 │ 4743.1341409081115 │ … │  6457.765690405415 │  4764.612281580658 │ 2535.0010005277068 │\n",
       "│     6076 │ 1723170332 │  8820.767976640787 │ … │  824.9621842279031 │  6574.802986913321 │ 219.69729677957739 │\n",
       "│     2561 │ 1723170332 │  5559.399227388616 │ … │    2822.1309469262 │ 3275.5575956855996 │ 1671.1823106062118 │\n",
       "├──────────┴────────────┴────────────────────┴───┴────────────────────┴────────────────────┴────────────────────┤\n",
       "│ 99 rows (20 shown)                                                                      102 columns (6 shown) │\n",
       "└───────────────────────────────────────────────────────────────────────────────────────────────────────────────┘"
      ]
     },
     "execution_count": 31,
     "metadata": {},
     "output_type": "execute_result"
    }
   ],
   "source": [
    "sql = \"\"\"\n",
    "select * from device_iot_01\n",
    "\"\"\"\n",
    "con.sql(sql)\n"
   ]
  },
  {
   "cell_type": "code",
   "execution_count": 4,
   "metadata": {},
   "outputs": [],
   "source": [
    "con.close()"
   ]
  },
  {
   "cell_type": "code",
   "execution_count": 3,
   "metadata": {},
   "outputs": [],
   "source": [
    "sql = \"\"\"\n",
    "COPY (select * from device_iot_01) TO 'device_iot_01.csv' (HEADER, DELIMITER ',');\n",
    "\"\"\"\n",
    "con.sql(sql)"
   ]
  }
 ],
 "metadata": {
  "kernelspec": {
   "display_name": "base",
   "language": "python",
   "name": "python3"
  },
  "language_info": {
   "codemirror_mode": {
    "name": "ipython",
    "version": 3
   },
   "file_extension": ".py",
   "mimetype": "text/x-python",
   "name": "python",
   "nbconvert_exporter": "python",
   "pygments_lexer": "ipython3",
   "version": "3.11.7"
  }
 },
 "nbformat": 4,
 "nbformat_minor": 2
}
