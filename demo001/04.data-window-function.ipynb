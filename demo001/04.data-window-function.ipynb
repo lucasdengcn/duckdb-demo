{
 "cells": [
  {
   "cell_type": "code",
   "execution_count": 1,
   "metadata": {},
   "outputs": [],
   "source": [
    "import duckdb\n",
    "con = duckdb.connect()"
   ]
  },
  {
   "cell_type": "code",
   "execution_count": 2,
   "metadata": {},
   "outputs": [],
   "source": [
    "sql = \"\"\"\n",
    "Create Table if not exists device_status as (\n",
    "    select ID, isBool, timestamp from device_status.csv\n",
    ")\n",
    "\"\"\"\n",
    "\n",
    "con.sql(sql)"
   ]
  },
  {
   "cell_type": "code",
   "execution_count": 3,
   "metadata": {},
   "outputs": [
    {
     "data": {
      "text/plain": [
       "┌───────┬─────────┬─────────────────────┐\n",
       "│  ID   │ isBool  │      timestamp      │\n",
       "│ int64 │ boolean │      timestamp      │\n",
       "├───────┼─────────┼─────────────────────┤\n",
       "│     1 │ true    │ 2016-08-31 14:50:00 │\n",
       "│     2 │ false   │ 2016-08-31 14:51:00 │\n",
       "│     3 │ false   │ 2016-08-31 14:51:02 │\n",
       "│     4 │ true    │ 2016-08-31 14:52:00 │\n",
       "│     5 │ true    │ 2016-08-31 14:52:05 │\n",
       "│     6 │ true    │ 2016-08-31 14:52:10 │\n",
       "│     7 │ false   │ 2016-08-31 14:53:00 │\n",
       "│     8 │ false   │ 2016-08-31 14:54:00 │\n",
       "│     9 │ true    │ 2016-08-31 14:54:02 │\n",
       "│    10 │ true    │ 2016-08-31 14:55:00 │\n",
       "│    11 │ true    │ 2016-08-31 14:55:02 │\n",
       "│    12 │ true    │ 2016-08-31 14:56:00 │\n",
       "│    13 │ true    │ 2016-08-31 14:57:00 │\n",
       "│    14 │ true    │ 2016-08-31 14:58:00 │\n",
       "├───────┴─────────┴─────────────────────┤\n",
       "│ 14 rows                     3 columns │\n",
       "└───────────────────────────────────────┘"
      ]
     },
     "execution_count": 3,
     "metadata": {},
     "output_type": "execute_result"
    }
   ],
   "source": [
    "sql = \"\"\"\n",
    "select * from device_status\n",
    "\"\"\"\n",
    "con.sql(sql)"
   ]
  },
  {
   "cell_type": "code",
   "execution_count": null,
   "metadata": {},
   "outputs": [],
   "source": [
    "sql = \"\"\"\n",
    "select \n",
    "        case when PreviousID is NULL then 0 else PreviousID end as PreviousID,\n",
    "        PreviousStatus, PreviousTimestamp, \n",
    "        ID, isBool, timestamp\n",
    "    from (\n",
    "        SELECT \n",
    "            lag(ID) OVER validity AS PreviousID,\n",
    "            lag(isBool) OVER validity AS PreviousStatus,\n",
    "            lag(timestamp) OVER validity AS PreviousTimestamp,\n",
    "            ID,\n",
    "            isBool,\n",
    "            timestamp\n",
    "        FROM device_status\n",
    "        WINDOW validity AS (ORDER BY ID, timestamp)\n",
    "        ORDER BY timestamp\n",
    "    ) where (PreviousStatus is NULL or isBool = PreviousStatus)\n",
    "\"\"\"\n",
    "\n",
    "con.sql(sql)"
   ]
  },
  {
   "cell_type": "code",
   "execution_count": null,
   "metadata": {},
   "outputs": [],
   "source": [
    "sql = \"\"\"\n",
    "select isBool, \n",
    "        min(case when PreviousID is NULL then 0 else PreviousID end) as PreviousID, \n",
    "        min(PreviousTimestamp) as PreviousTimestamp, \n",
    "        max(ID) as ID, \n",
    "        max(timestamp) as timestamp\n",
    "from (\n",
    "    SELECT \n",
    "        ID,\n",
    "        isBool,\n",
    "        timestamp,\n",
    "        lag(ID) OVER validity AS PreviousID,\n",
    "        lag(isBool) OVER validity AS PreviousStatus,\n",
    "        lag(timestamp) OVER validity AS PreviousTimestamp\n",
    "    FROM device_status\n",
    "    WINDOW validity AS (ORDER BY ID, timestamp)\n",
    "    ORDER BY timestamp\n",
    ") where (PreviousStatus is NULL or isBool = PreviousStatus)\n",
    "group by PreviousID-ID, isBool\n",
    "order by PreviousID\n",
    "\"\"\"\n",
    "\n",
    "con.sql(sql)"
   ]
  },
  {
   "cell_type": "code",
   "execution_count": null,
   "metadata": {},
   "outputs": [],
   "source": [
    "sql = \"\"\"\n",
    "SELECT \n",
    "        ID,\n",
    "        isBool,\n",
    "        timestamp,\n",
    "        lead(ID) OVER validity AS LeadID,\n",
    "        lead(isBool) OVER validity AS LeadStatus,\n",
    "        lead(timestamp) OVER validity AS LeadTimestamp\n",
    "    FROM device_status\n",
    "    WINDOW validity AS (ORDER BY ID, timestamp)\n",
    "    ORDER BY timestamp\n",
    "\"\"\"\n",
    "\n",
    "con.sql(sql)"
   ]
  },
  {
   "cell_type": "code",
   "execution_count": null,
   "metadata": {},
   "outputs": [],
   "source": [
    "sql = \"\"\"\n",
    "select ID, isBool, timestamp, leadID, leadStatus, leadTimestamp, epoch(leadTimestamp - timestamp) as Change \n",
    "from (\n",
    "    SELECT \n",
    "        ID,\n",
    "        isBool,\n",
    "        timestamp,\n",
    "        lead(ID) OVER validity AS LeadID,\n",
    "        lead(isBool) OVER validity AS LeadStatus,\n",
    "        lead(timestamp) OVER validity AS LeadTimestamp\n",
    "    FROM device_status\n",
    "    WINDOW validity AS (ORDER BY ID, timestamp)\n",
    "    ORDER BY ID\n",
    ") where LeadStatus is NULL or isBool = LeadStatus\n",
    "\"\"\"\n",
    "\n",
    "con.sql(sql)"
   ]
  },
  {
   "cell_type": "code",
   "execution_count": null,
   "metadata": {},
   "outputs": [],
   "source": [
    "sql = \"\"\"\n",
    "\n",
    "SELECT\n",
    "                id,\n",
    "                isBool as term,\n",
    "                timestamp as value,\n",
    "                CASE\n",
    "                    WHEN LAG(term) OVER (ORDER BY id) <> term OR LAG(term) OVER (ORDER BY id) IS NULL THEN 1\n",
    "                    ELSE 0\n",
    "                END AS term_change\n",
    "            FROM\n",
    "                device_status\n",
    "\n",
    "\"\"\"\n",
    "\n",
    "con.sql(sql)\n"
   ]
  },
  {
   "cell_type": "code",
   "execution_count": null,
   "metadata": {},
   "outputs": [],
   "source": [
    "sql = \"\"\"\n",
    "\n",
    "SELECT\n",
    "        id,\n",
    "        term,\n",
    "        value,\n",
    "        SUM(term_change) OVER (ORDER BY id) AS term_group\n",
    "    FROM\n",
    "        (\n",
    "            SELECT\n",
    "                id,\n",
    "                isBool as term,\n",
    "                timestamp as value,\n",
    "                CASE\n",
    "                    WHEN LAG(term) OVER (ORDER BY id) <> term OR LAG(term) OVER (ORDER BY id) IS NULL THEN 1\n",
    "                    ELSE 0\n",
    "                END AS term_change\n",
    "            FROM\n",
    "                device_status\n",
    "        ) t\n",
    "\n",
    "\"\"\"\n",
    "\n",
    "con.sql(sql)\n"
   ]
  },
  {
   "cell_type": "code",
   "execution_count": 4,
   "metadata": {},
   "outputs": [
    {
     "data": {
      "text/plain": [
       "┌────────────┬────────┬────────┬─────────┬─────────────────────┬─────────────────────┬──────────┐\n",
       "│ term_group │ min_id │ max_id │  term   │      min_value      │      max_value      │ duration │\n",
       "│   int128   │ int64  │ int64  │ boolean │      timestamp      │      timestamp      │  double  │\n",
       "├────────────┼────────┼────────┼─────────┼─────────────────────┼─────────────────────┼──────────┤\n",
       "│          1 │      1 │      1 │ true    │ 2016-08-31 14:50:00 │ 2016-08-31 14:50:00 │      0.0 │\n",
       "│          2 │      2 │      3 │ false   │ 2016-08-31 14:51:00 │ 2016-08-31 14:51:02 │      2.0 │\n",
       "│          3 │      4 │      6 │ true    │ 2016-08-31 14:52:00 │ 2016-08-31 14:52:10 │     10.0 │\n",
       "│          4 │      7 │      8 │ false   │ 2016-08-31 14:53:00 │ 2016-08-31 14:54:00 │     60.0 │\n",
       "│          5 │      9 │     14 │ true    │ 2016-08-31 14:54:02 │ 2016-08-31 14:58:00 │    238.0 │\n",
       "└────────────┴────────┴────────┴─────────┴─────────────────────┴─────────────────────┴──────────┘"
      ]
     },
     "execution_count": 4,
     "metadata": {},
     "output_type": "execute_result"
    }
   ],
   "source": [
    "sql = \"\"\"\n",
    "\n",
    "WITH numbered_data AS (\n",
    "    SELECT\n",
    "        id,\n",
    "        term,\n",
    "        value,\n",
    "        SUM(term_change) OVER (ORDER BY id) AS term_group\n",
    "    FROM\n",
    "        (\n",
    "            SELECT\n",
    "                id,\n",
    "                isBool as term,\n",
    "                timestamp as value,\n",
    "                CASE\n",
    "                    WHEN LAG(term) OVER (ORDER BY id) <> term OR LAG(term) OVER (ORDER BY id) IS NULL THEN 1\n",
    "                    ELSE 0\n",
    "                END AS term_change\n",
    "            FROM\n",
    "                device_status\n",
    "        ) t\n",
    ")\n",
    "SELECT\n",
    "    term_group, min(id) as min_id, max(id) as max_id, term, min(value) as min_value, max(value) as max_value,\n",
    "    epoch(max_value - min_value) as duration\n",
    "FROM\n",
    "    numbered_data curr\n",
    "group by \n",
    "    term_group, term\n",
    "order by\n",
    "    term_group\n",
    "\"\"\"\n",
    "\n",
    "con.sql(sql)\n"
   ]
  }
 ],
 "metadata": {
  "kernelspec": {
   "display_name": "base",
   "language": "python",
   "name": "python3"
  },
  "language_info": {
   "codemirror_mode": {
    "name": "ipython",
    "version": 3
   },
   "file_extension": ".py",
   "mimetype": "text/x-python",
   "name": "python",
   "nbconvert_exporter": "python",
   "pygments_lexer": "ipython3",
   "version": "3.11.7"
  }
 },
 "nbformat": 4,
 "nbformat_minor": 2
}
