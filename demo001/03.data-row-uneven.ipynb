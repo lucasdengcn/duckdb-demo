{
 "cells": [
  {
   "cell_type": "code",
   "execution_count": 1,
   "metadata": {},
   "outputs": [],
   "source": [
    "import duckdb\n",
    "con = duckdb.connect()"
   ]
  },
  {
   "cell_type": "code",
   "execution_count": 2,
   "metadata": {},
   "outputs": [
    {
     "data": {
      "text/plain": [
       "┌──────────┬───────┬───────┬───────┐\n",
       "│ deviceId │   a   │   b   │   c   │\n",
       "│ varchar  │ int64 │ int64 │ int64 │\n",
       "├──────────┼───────┼───────┼───────┤\n",
       "│ 1        │     2 │  NULL │  NULL │\n",
       "│ 2        │  NULL │     2 │  NULL │\n",
       "│ 3        │  NULL │  NULL │     2 │\n",
       "└──────────┴───────┴───────┴───────┘"
      ]
     },
     "execution_count": 2,
     "metadata": {},
     "output_type": "execute_result"
    }
   ],
   "source": [
    "sql = \"\"\"\n",
    "PIVOT (\n",
    "    select deviceId, unnest(metric_item) from \n",
    "        (SELECT deviceId, UNNEST(metrics) as metric_item FROM './uneven.json')\n",
    ")\n",
    "ON name\n",
    "USING first(value)\n",
    "GROUP BY deviceId\n",
    "\"\"\"\n",
    "\n",
    "con.sql(sql)"
   ]
  }
 ],
 "metadata": {
  "kernelspec": {
   "display_name": "base",
   "language": "python",
   "name": "python3"
  },
  "language_info": {
   "codemirror_mode": {
    "name": "ipython",
    "version": 3
   },
   "file_extension": ".py",
   "mimetype": "text/x-python",
   "name": "python",
   "nbconvert_exporter": "python",
   "pygments_lexer": "ipython3",
   "version": "3.11.7"
  }
 },
 "nbformat": 4,
 "nbformat_minor": 2
}
