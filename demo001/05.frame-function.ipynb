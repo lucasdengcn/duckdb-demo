{
 "cells": [
  {
   "cell_type": "code",
   "execution_count": 3,
   "metadata": {},
   "outputs": [],
   "source": [
    "import duckdb\n",
    "con = duckdb.connect(':memory:')"
   ]
  },
  {
   "cell_type": "code",
   "execution_count": 5,
   "metadata": {},
   "outputs": [
    {
     "data": {
      "text/plain": [
       "<duckdb.duckdb.DuckDBPyConnection at 0x11b49a530>"
      ]
     },
     "execution_count": 5,
     "metadata": {},
     "output_type": "execute_result"
    }
   ],
   "source": [
    "sql = \"\"\"\n",
    "CREATE TABLE \"Generation History\" AS\n",
    "    FROM '../power-plant-generation-history.csv'\n",
    "\"\"\"\n",
    "con.execute(sql)"
   ]
  },
  {
   "cell_type": "markdown",
   "metadata": {},
   "source": [
    "Range Framing Window"
   ]
  },
  {
   "cell_type": "code",
   "execution_count": null,
   "metadata": {},
   "outputs": [],
   "source": [
    "sql = \"\"\"\n",
    "SELECT \"Plant\", \"Date\",\n",
    "    min(\"MWh\") OVER seven AS \"MWh 7-day Moving Minimum\",\n",
    "    avg(\"MWh\") OVER seven AS \"MWh 7-day Moving Average\",\n",
    "    max(\"MWh\") OVER seven AS \"MWh 7-day Moving Maximum\",\n",
    "    min(\"MWh\") OVER three AS \"MWh 3-day Moving Minimum\",\n",
    "    avg(\"MWh\") OVER three AS \"MWh 3-day Moving Average\",\n",
    "    max(\"MWh\") OVER three AS \"MWh 3-day Moving Maximum\"\n",
    "FROM \"Generation History\"\n",
    "WINDOW\n",
    "    seven AS (\n",
    "        PARTITION BY \"Plant\"\n",
    "        ORDER BY \"Date\" ASC\n",
    "        RANGE BETWEEN INTERVAL 3 DAYS PRECEDING\n",
    "                  AND INTERVAL 3 DAYS FOLLOWING),\n",
    "    three AS (\n",
    "        PARTITION BY \"Plant\"\n",
    "        ORDER BY \"Date\" ASC\n",
    "        RANGE BETWEEN INTERVAL 1 DAYS PRECEDING\n",
    "        AND INTERVAL 1 DAYS FOLLOWING)\n",
    "ORDER BY 1, 2\n",
    "\"\"\"\n",
    "con.sql(sql)"
   ]
  },
  {
   "cell_type": "code",
   "execution_count": null,
   "metadata": {},
   "outputs": [],
   "source": [
    "sql = \"\"\"\n",
    "SELECT \"Plant\", \"Date\",\n",
    "    min(\"MWh\") OVER seven AS \"MWh 7-day Moving Minimum\",\n",
    "    avg(\"MWh\") OVER seven AS \"MWh 7-day Moving Average\",\n",
    "    max(\"MWh\") OVER seven AS \"MWh 7-day Moving Maximum\",\n",
    "    min(\"MWh\") OVER three AS \"MWh 3-day Moving Minimum\",\n",
    "    avg(\"MWh\") OVER three AS \"MWh 3-day Moving Average\",\n",
    "    max(\"MWh\") OVER three AS \"MWh 3-day Moving Maximum\"\n",
    "FROM \"Generation History\"\n",
    "WINDOW\n",
    "    seven AS (\n",
    "        PARTITION BY \"Plant\"\n",
    "        ORDER BY \"Date\" ASC\n",
    "        RANGE BETWEEN INTERVAL 6 DAYS PRECEDING AND CURRENT ROW\n",
    "    ),\n",
    "    three AS (\n",
    "        PARTITION BY \"Plant\"\n",
    "        ORDER BY \"Date\" ASC\n",
    "        RANGE BETWEEN INTERVAL 2 DAYS PRECEDING AND CURRENT ROW\n",
    "    )\n",
    "ORDER BY 1, 2\n",
    "\"\"\"\n",
    "con.sql(sql)"
   ]
  },
  {
   "cell_type": "markdown",
   "metadata": {},
   "source": [
    "QUANTILE_CONT is a window function that calculates a specific percentile value (continuous) within a group of rows defined by a window frame. \n",
    "This function is used to compute a value that divides the group of rows into two parts: the proportion of rows below the computed value is equal to or less than a specified fraction.\n",
    "\n",
    "https://duckdb.org/docs/sql/functions/aggregates#quantile_contx-pos\n",
    "\n",
    "QUANTILE_CONT(fraction) WITHIN GROUP (ORDER BY expression) OVER (window_frame)\n"
   ]
  },
  {
   "cell_type": "code",
   "execution_count": 11,
   "metadata": {},
   "outputs": [
    {
     "data": {
      "text/plain": [
       "┌───────────┬────────────┬──────────────────────────┬─────────────────────────────────┬──────────────────────────┐\n",
       "│   Plant   │    Date    │ MWh 7-day Moving Minimum │      MWh 7-day Moving IQR       │ MWh 7-day Moving Maximum │\n",
       "│  varchar  │    date    │          int64           │            double[]             │          int64           │\n",
       "├───────────┼────────────┼──────────────────────────┼─────────────────────────────────┼──────────────────────────┤\n",
       "│ Boston    │ 2019-01-02 │                   469538 │ [497938.25, 517964.0, 537476.5] │                   564337 │\n",
       "│ Boston    │ 2019-01-03 │                   469538 │ [474163.0, 507405.0, 528523.0]  │                   564337 │\n",
       "│ Boston    │ 2019-01-04 │                   469538 │ [482425.5, 507309.0, 523243.5]  │                   564337 │\n",
       "│ Boston    │ 2019-01-05 │                   469538 │ [490688.0, 507405.0, 546430.0]  │                   613040 │\n",
       "│ Boston    │ 2019-01-06 │                   469538 │ [490688.0, 507405.0, 555555.5]  │                   613040 │\n",
       "│ Boston    │ 2019-01-07 │                   469538 │ [486834.5, 507213.0, 555555.5]  │                   613040 │\n",
       "│ Boston    │ 2019-01-08 │                   469538 │ [478088.5, 499506.0, 544900.5]  │                   613040 │\n",
       "│ Boston    │ 2019-01-09 │                   474163 │ [484074.0, 499506.0, 544900.5]  │                   613040 │\n",
       "│ Boston    │ 2019-01-10 │                   482014 │ [492820.0, 507213.0, 557053.0]  │                   613040 │\n",
       "│ Boston    │ 2019-01-11 │                   482014 │ [489477.0, 515512.0, 569820.5]  │                   613040 │\n",
       "│   ·       │     ·      │                      ·   │               ·                 │                      ·   │\n",
       "│   ·       │     ·      │                      ·   │               ·                 │                      ·   │\n",
       "│   ·       │     ·      │                      ·   │               ·                 │                      ·   │\n",
       "│ Worcester │ 2019-01-04 │                    92182 │ [95852.0, 100954.5, 105034.75]  │                   118860 │\n",
       "│ Worcester │ 2019-01-05 │                    92182 │ [97212.0, 101977.0, 112454.0]   │                   118860 │\n",
       "│ Worcester │ 2019-01-06 │                    92182 │ [97212.0, 101977.0, 109780.0]   │                   118854 │\n",
       "│ Worcester │ 2019-01-07 │                    92182 │ [95568.0, 99932.0, 109780.0]    │                   118854 │\n",
       "│ Worcester │ 2019-01-08 │                    92182 │ [94149.0, 96644.0, 106719.0]    │                   118854 │\n",
       "│ Worcester │ 2019-01-09 │                    93806 │ [95568.0, 98963.0, 106719.0]    │                   118854 │\n",
       "│ Worcester │ 2019-01-10 │                    93806 │ [97803.5, 99932.0, 110338.0]    │                   118854 │\n",
       "│ Worcester │ 2019-01-11 │                    93806 │ [97223.75, 103066.5, 111922.0]  │                   118854 │\n",
       "│ Worcester │ 2019-01-12 │                    93806 │ [96644.0, 98963.0, 107170.0]    │                   113506 │\n",
       "│ Worcester │ 2019-01-13 │                    93806 │ [95934.5, 97803.5, 101014.75]   │                   107170 │\n",
       "├───────────┴────────────┴──────────────────────────┴─────────────────────────────────┴──────────────────────────┤\n",
       "│ 24 rows (20 shown)                                                                                   5 columns │\n",
       "└────────────────────────────────────────────────────────────────────────────────────────────────────────────────┘"
      ]
     },
     "execution_count": 11,
     "metadata": {},
     "output_type": "execute_result"
    }
   ],
   "source": [
    "sql = \"\"\"\n",
    "SELECT \"Plant\", \"Date\",\n",
    "    min(\"MWh\") OVER seven AS \"MWh 7-day Moving Minimum\",\n",
    "    quantile_cont(\"MWh\", [0.25, 0.5, 0.75]) OVER seven\n",
    "        AS \"MWh 7-day Moving IQR\",\n",
    "    max(\"MWh\") OVER seven AS \"MWh 7-day Moving Maximum\",\n",
    "FROM \"Generation History\"\n",
    "WINDOW seven AS (\n",
    "    PARTITION BY \"Plant\"\n",
    "    ORDER BY \"Date\" ASC\n",
    "    RANGE BETWEEN INTERVAL 3 DAYS PRECEDING\n",
    "              AND INTERVAL 3 DAYS FOLLOWING)\n",
    "ORDER BY 1, 2;\n",
    "\"\"\"\n",
    "con.sql(sql)"
   ]
  }
 ],
 "metadata": {
  "kernelspec": {
   "display_name": "base",
   "language": "python",
   "name": "python3"
  },
  "language_info": {
   "codemirror_mode": {
    "name": "ipython",
    "version": 3
   },
   "file_extension": ".py",
   "mimetype": "text/x-python",
   "name": "python",
   "nbconvert_exporter": "python",
   "pygments_lexer": "ipython3",
   "version": "3.11.7"
  }
 },
 "nbformat": 4,
 "nbformat_minor": 2
}
