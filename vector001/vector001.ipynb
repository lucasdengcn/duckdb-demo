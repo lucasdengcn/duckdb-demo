{
 "cells": [
  {
   "cell_type": "code",
   "execution_count": 1,
   "metadata": {},
   "outputs": [],
   "source": [
    "import duckdb\n",
    "conn = duckdb.connect(\"embeddings.db\")"
   ]
  },
  {
   "cell_type": "code",
   "execution_count": 2,
   "metadata": {},
   "outputs": [
    {
     "name": "stderr",
     "output_type": "stream",
     "text": [
      "/Users/yamingdeng/miniconda3/lib/python3.11/site-packages/torchvision/io/image.py:13: UserWarning: Failed to load image Python extension: 'dlopen(/Users/yamingdeng/miniconda3/lib/python3.11/site-packages/torchvision/image.so, 0x0006): Symbol not found: __ZN3c1017RegisterOperatorsD1Ev\n",
      "  Referenced from: <CFED5F8E-EC3F-36FD-AAA3-2C6C7F8D3DD9> /Users/yamingdeng/miniconda3/lib/python3.11/site-packages/torchvision/image.so\n",
      "  Expected in:     <D400622C-0C6B-3AE1-AB45-F1D0BF19B384> /Users/yamingdeng/miniconda3/lib/python3.11/site-packages/torch/lib/libtorch_cpu.dylib'If you don't plan on using image functionality from `torchvision.io`, you can ignore this warning. Otherwise, there might be something wrong with your environment. Did you have `libjpeg` or `libpng` installed before building `torchvision` from source?\n",
      "  warn(\n"
     ]
    },
    {
     "name": "stdout",
     "output_type": "stream",
     "text": [
      "Using device: mps\n"
     ]
    }
   ],
   "source": [
    "from FlagEmbedding import BGEM3FlagModel\n",
    "import torch\n",
    "\n",
    "device = \"cpu\"\n",
    "# use a GPU if available to speed up the embedding computation\n",
    "if torch.cuda.is_available(): device = \"cuda\" # Nvidia GPU\n",
    "elif torch.backends.mps.is_available(): device = \"mps\" # Apple silicon GPU\n",
    "\n",
    "print(f'Using device: {device}')\n",
    "\n",
    "model = BGEM3FlagModel('/Users/yamingdeng/AI/models/bge-m3', use_fp16=True, device=device)"
   ]
  },
  {
   "cell_type": "code",
   "execution_count": 3,
   "metadata": {},
   "outputs": [
    {
     "data": {
      "text/plain": [
       "array([[0.626 , 0.1918],\n",
       "       [0.3362, 0.732 ]], dtype=float16)"
      ]
     },
     "execution_count": 3,
     "metadata": {},
     "output_type": "execute_result"
    }
   ],
   "source": [
    "queries = [\"What is BGE M3?\", \"What is DuckDB?\"]\n",
    "documents = [\n",
    "    \"BGE M3 is an embedding model supporting dense retrieval, lexical matching and multi-vector interaction.\",\n",
    "    \"DuckDB is a fast in-process analytical database. It supports a feature-rich SQL dialect complemented with deep integrations into client APIs\",\n",
    "]\n",
    "\n",
    "query_embeddings = model.encode(queries)[\"dense_vecs\"]\n",
    "document_embeddings = model.encode(documents)[\"dense_vecs\"]\n",
    "\n",
    "similarity = query_embeddings @ document_embeddings.T\n",
    "similarity"
   ]
  },
  {
   "cell_type": "code",
   "execution_count": 3,
   "metadata": {},
   "outputs": [
    {
     "data": {
      "text/plain": [
       "<duckdb.duckdb.DuckDBPyConnection at 0x1041dfcb0>"
      ]
     },
     "execution_count": 3,
     "metadata": {},
     "output_type": "execute_result"
    }
   ],
   "source": [
    "from duckdb.typing import VARCHAR\n",
    "import pyarrow as pa\n",
    "import numpy as np\n",
    "\n",
    "def embed(sentence: str) -> np.ndarray:\n",
    "    return model.encode(sentence)['dense_vecs']\n",
    "\n",
    "conn.create_function(\"embed\", embed, [VARCHAR], 'FLOAT[1024]')"
   ]
  },
  {
   "cell_type": "code",
   "execution_count": null,
   "metadata": {},
   "outputs": [],
   "source": [
    "sql = \"\"\"\n",
    "SELECT embed('Who was the first human on the moon?') AS query_embedding;\n",
    "\"\"\"\n",
    "\n",
    "conn.execute(sql).fetchall()"
   ]
  },
  {
   "cell_type": "code",
   "execution_count": 4,
   "metadata": {},
   "outputs": [
    {
     "data": {
      "text/plain": [
       "<duckdb.duckdb.DuckDBPyConnection at 0x1041dfcb0>"
      ]
     },
     "execution_count": 4,
     "metadata": {},
     "output_type": "execute_result"
    }
   ],
   "source": [
    "sql = \"\"\"\n",
    "INSTALL vss;\n",
    "LOAD vss;\n",
    "\"\"\"\n",
    "conn.execute(sql)"
   ]
  },
  {
   "cell_type": "code",
   "execution_count": 5,
   "metadata": {},
   "outputs": [
    {
     "data": {
      "text/plain": [
       "<duckdb.duckdb.DuckDBPyConnection at 0x1041dfcb0>"
      ]
     },
     "execution_count": 5,
     "metadata": {},
     "output_type": "execute_result"
    }
   ],
   "source": [
    "sql = \"\"\"\n",
    "SET GLOBAL hnsw_enable_experimental_persistence = true;\n",
    "\"\"\"\n",
    "conn.execute(sql)"
   ]
  },
  {
   "cell_type": "code",
   "execution_count": 6,
   "metadata": {},
   "outputs": [
    {
     "data": {
      "text/plain": [
       "<duckdb.duckdb.DuckDBPyConnection at 0x1041dfcb0>"
      ]
     },
     "execution_count": 6,
     "metadata": {},
     "output_type": "execute_result"
    }
   ],
   "source": [
    "sql = \"\"\"\n",
    "CREATE TABLE embeddings(\n",
    "     doc_id VARCHAR,\n",
    "     embedding FLOAT[1024]\n",
    ");\n",
    "\"\"\"\n",
    "conn.execute(sql)"
   ]
  },
  {
   "cell_type": "code",
   "execution_count": 9,
   "metadata": {},
   "outputs": [
    {
     "data": {
      "text/plain": [
       "<duckdb.duckdb.DuckDBPyConnection at 0x1080c2170>"
      ]
     },
     "execution_count": 9,
     "metadata": {},
     "output_type": "execute_result"
    }
   ],
   "source": [
    "sql = \"\"\"\n",
    "CREATE INDEX ip_idx ON embeddings USING HNSW (embedding)\n",
    "WITH (metric = 'ip');\n",
    "\"\"\"\n",
    "conn.execute(sql)"
   ]
  },
  {
   "cell_type": "code",
   "execution_count": 10,
   "metadata": {},
   "outputs": [],
   "source": [
    "sql = \"\"\"\n",
    "CREATE TABLE data_01 AS\n",
    "(select SKU, description, price from generated_data_01.csv)\n",
    "\"\"\"\n",
    "\n",
    "conn.sql(sql)\n",
    "#0.0s"
   ]
  },
  {
   "cell_type": "code",
   "execution_count": 7,
   "metadata": {},
   "outputs": [
    {
     "data": {
      "application/vnd.jupyter.widget-view+json": {
       "model_id": "26347bd5a3e540339bdf218bfda2ca9a",
       "version_major": 2,
       "version_minor": 0
      },
      "text/plain": [
       "FloatProgress(value=0.0, layout=Layout(width='auto'), style=ProgressStyle(bar_color='black'))"
      ]
     },
     "metadata": {},
     "output_type": "display_data"
    }
   ],
   "source": [
    "sql = \"\"\"\n",
    "insert into embeddings(doc_id, embedding) \n",
    "SELECT SKU, embed(description) as embedding FROM generated_data_01.csv\n",
    "\"\"\"\n",
    "conn.sql(sql)\n",
    "# 3m 27.7s"
   ]
  },
  {
   "cell_type": "code",
   "execution_count": 12,
   "metadata": {},
   "outputs": [
    {
     "data": {
      "text/plain": [
       "[('886-35-2858', 'Cross-group executive parallelism', 0.9070870280265808),\n",
       " ('679-47-9529', 'Cross-group executive array', 0.7563570141792297),\n",
       " ('292-50-7938', 'Cross-group executive array', 0.7563570141792297),\n",
       " ('438-90-7050', 'Persistent executive parallelism', 0.7523760199546814),\n",
       " ('273-75-3630', 'Cross-group reciprocal parallelism', 0.7474920153617859)]"
      ]
     },
     "execution_count": 12,
     "metadata": {},
     "output_type": "execute_result"
    }
   ],
   "source": [
    "sql = \"\"\"\n",
    "WITH top_k AS (\n",
    "    FROM embeddings \n",
    "    SELECT *\n",
    "    ORDER BY array_inner_product(embedding, embed($q))\n",
    "    LIMIT 5)\n",
    "FROM top_k JOIN data_02 ON (data_02.SKU = top_k.doc_id)\n",
    "SELECT data_02.SKU, description, array_inner_product(embedding, embed($q)) AS similarity\n",
    "ORDER BY similarity DESC\n",
    "\"\"\"\n",
    "\n",
    "conn.sql(sql, params={'q': 'Cross-group 12 executive parallelism'}).fetchall()\n",
    "# 0.5s"
   ]
  },
  {
   "cell_type": "code",
   "execution_count": 8,
   "metadata": {},
   "outputs": [
    {
     "data": {
      "text/plain": [
       "<duckdb.duckdb.DuckDBPyConnection at 0x1041dfcb0>"
      ]
     },
     "execution_count": 8,
     "metadata": {},
     "output_type": "execute_result"
    }
   ],
   "source": [
    "sql = \"\"\"\n",
    "CREATE TABLE embeddings2(\n",
    "     doc_id VARCHAR,\n",
    "     embedding FLOAT[1024]\n",
    ");\n",
    "\"\"\"\n",
    "conn.execute(sql)"
   ]
  },
  {
   "cell_type": "code",
   "execution_count": 9,
   "metadata": {},
   "outputs": [
    {
     "data": {
      "application/vnd.jupyter.widget-view+json": {
       "model_id": "ad487e6a7d224c19b4f2b3390012e0eb",
       "version_major": 2,
       "version_minor": 0
      },
      "text/plain": [
       "FloatProgress(value=0.0, layout=Layout(width='auto'), style=ProgressStyle(bar_color='black'))"
      ]
     },
     "metadata": {},
     "output_type": "display_data"
    }
   ],
   "source": [
    "sql = \"\"\"\n",
    "insert into embeddings2(doc_id, embedding) \n",
    "SELECT SKU, embed(description) as embedding FROM generated_data_02.csv\n",
    "\"\"\"\n",
    "conn.sql(sql)\n",
    "# 4m 19.3s"
   ]
  },
  {
   "cell_type": "code",
   "execution_count": 10,
   "metadata": {},
   "outputs": [
    {
     "data": {
      "application/vnd.jupyter.widget-view+json": {
       "model_id": "615d157652284270af2a38f82d784e69",
       "version_major": 2,
       "version_minor": 0
      },
      "text/plain": [
       "FloatProgress(value=0.0, layout=Layout(width='auto'), style=ProgressStyle(bar_color='black'))"
      ]
     },
     "metadata": {},
     "output_type": "display_data"
    }
   ],
   "source": [
    "sql = \"\"\"\n",
    "create table similarity_matrix AS\n",
    "select e1.doc_id as doc_id1, e2.doc_id as doc_id2, array_inner_product(e1.embedding, e2.embedding) as ratio\n",
    "from embeddings e1, embeddings2 e2\n",
    "where array_inner_product(e1.embedding, e2.embedding) >= 0.80\n",
    "\"\"\"\n",
    "\n",
    "conn.sql(sql)\n",
    "# 1m 37.3s"
   ]
  },
  {
   "cell_type": "code",
   "execution_count": 14,
   "metadata": {},
   "outputs": [],
   "source": [
    "sql = \"\"\"\n",
    "COPY (\n",
    "    select * from (\n",
    "        select \n",
    "            d1.sku as sku1, d1.description as description1, d2.sku as sku2, d2.description as description2, sm.ratio,\n",
    "            row_number() OVER (PARTITION BY sm.doc_id1 ORDER BY sm.ratio desc) as rn\n",
    "        from similarity_matrix sm, \n",
    "            (SELECT SKU, description FROM generated_data_01.csv) d1, \n",
    "            (SELECT SKU, description FROM generated_data_02.csv) d2\n",
    "        where sm.doc_id1 = d1.SKU and sm.doc_id2 = d2.SKU\n",
    "    ) where rn = 1\n",
    ") TO 'similarity_matrix_output.csv' (HEADER, DELIMITER ',');\n",
    "\"\"\"\n",
    "\n",
    "conn.sql(sql)\n",
    "# 0.0s"
   ]
  }
 ],
 "metadata": {
  "kernelspec": {
   "display_name": "base",
   "language": "python",
   "name": "python3"
  },
  "language_info": {
   "codemirror_mode": {
    "name": "ipython",
    "version": 3
   },
   "file_extension": ".py",
   "mimetype": "text/x-python",
   "name": "python",
   "nbconvert_exporter": "python",
   "pygments_lexer": "ipython3",
   "version": "3.11.7"
  }
 },
 "nbformat": 4,
 "nbformat_minor": 2
}
