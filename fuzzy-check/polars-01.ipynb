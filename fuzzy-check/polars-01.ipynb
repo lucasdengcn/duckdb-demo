{
 "cells": [
  {
   "cell_type": "code",
   "execution_count": 1,
   "metadata": {},
   "outputs": [],
   "source": [
    "import polars as pl"
   ]
  },
  {
   "cell_type": "code",
   "execution_count": 2,
   "metadata": {},
   "outputs": [],
   "source": [
    "df1 = pl.read_csv(\"./generated_data_01.csv\")\n",
    "df2 = pl.read_csv(\"./generated_data_02.csv\")"
   ]
  },
  {
   "cell_type": "code",
   "execution_count": 3,
   "metadata": {},
   "outputs": [],
   "source": [
    "df_cross_join = df1.join(df2, how=\"cross\")"
   ]
  },
  {
   "cell_type": "code",
   "execution_count": 4,
   "metadata": {},
   "outputs": [
    {
     "data": {
      "text/html": [
       "<div><style>\n",
       ".dataframe > thead > tr,\n",
       ".dataframe > tbody > tr {\n",
       "  text-align: right;\n",
       "  white-space: pre-wrap;\n",
       "}\n",
       "</style>\n",
       "<small>shape: (5, 6)</small><table border=\"1\" class=\"dataframe\"><thead><tr><th>SKU</th><th>description</th><th>price</th><th>SKU_right</th><th>description_right</th><th>price_right</th></tr><tr><td>str</td><td>str</td><td>f64</td><td>str</td><td>str</td><td>f64</td></tr></thead><tbody><tr><td>&quot;335-86-8164&quot;</td><td>&quot;Multi-channeled coherent proje…</td><td>851.89</td><td>&quot;223-82-2234&quot;</td><td>&quot;Fully-configurable value-added…</td><td>664.82</td></tr><tr><td>&quot;335-86-8164&quot;</td><td>&quot;Multi-channeled coherent proje…</td><td>851.89</td><td>&quot;750-22-2868&quot;</td><td>&quot;Right-sized 24/7 encryption&quot;</td><td>540.28</td></tr><tr><td>&quot;335-86-8164&quot;</td><td>&quot;Multi-channeled coherent proje…</td><td>851.89</td><td>&quot;273-70-4025&quot;</td><td>&quot;Visionary context-sensitive su…</td><td>847.64</td></tr><tr><td>&quot;335-86-8164&quot;</td><td>&quot;Multi-channeled coherent proje…</td><td>851.89</td><td>&quot;355-71-1875&quot;</td><td>&quot;Ameliorated optimizing hierarc…</td><td>217.98</td></tr><tr><td>&quot;335-86-8164&quot;</td><td>&quot;Multi-channeled coherent proje…</td><td>851.89</td><td>&quot;504-41-5222&quot;</td><td>&quot;Synchronized composite capabil…</td><td>471.71</td></tr></tbody></table></div>"
      ],
      "text/plain": [
       "shape: (5, 6)\n",
       "┌─────────────┬─────────────────┬────────┬─────────────┬─────────────────────────────┬─────────────┐\n",
       "│ SKU         ┆ description     ┆ price  ┆ SKU_right   ┆ description_right           ┆ price_right │\n",
       "│ ---         ┆ ---             ┆ ---    ┆ ---         ┆ ---                         ┆ ---         │\n",
       "│ str         ┆ str             ┆ f64    ┆ str         ┆ str                         ┆ f64         │\n",
       "╞═════════════╪═════════════════╪════════╪═════════════╪═════════════════════════════╪═════════════╡\n",
       "│ 335-86-8164 ┆ Multi-channeled ┆ 851.89 ┆ 223-82-2234 ┆ Fully-configurable          ┆ 664.82      │\n",
       "│             ┆ coherent proje… ┆        ┆             ┆ value-added…                ┆             │\n",
       "│ 335-86-8164 ┆ Multi-channeled ┆ 851.89 ┆ 750-22-2868 ┆ Right-sized 24/7 encryption ┆ 540.28      │\n",
       "│             ┆ coherent proje… ┆        ┆             ┆                             ┆             │\n",
       "│ 335-86-8164 ┆ Multi-channeled ┆ 851.89 ┆ 273-70-4025 ┆ Visionary context-sensitive ┆ 847.64      │\n",
       "│             ┆ coherent proje… ┆        ┆             ┆ su…                         ┆             │\n",
       "│ 335-86-8164 ┆ Multi-channeled ┆ 851.89 ┆ 355-71-1875 ┆ Ameliorated optimizing      ┆ 217.98      │\n",
       "│             ┆ coherent proje… ┆        ┆             ┆ hierarc…                    ┆             │\n",
       "│ 335-86-8164 ┆ Multi-channeled ┆ 851.89 ┆ 504-41-5222 ┆ Synchronized composite      ┆ 471.71      │\n",
       "│             ┆ coherent proje… ┆        ┆             ┆ capabil…                    ┆             │\n",
       "└─────────────┴─────────────────┴────────┴─────────────┴─────────────────────────────┴─────────────┘"
      ]
     },
     "execution_count": 4,
     "metadata": {},
     "output_type": "execute_result"
    }
   ],
   "source": [
    "df_cross_join.head()"
   ]
  },
  {
   "cell_type": "code",
   "execution_count": 8,
   "metadata": {},
   "outputs": [],
   "source": [
    "# df_cross_join.head().map_rows(lambda row: print(row))\n",
    "from thefuzz import fuzz\n",
    "def fuzzy_similarity(x, y):\n",
    "    return fuzz.ratio(x, y)\n",
    "#\n",
    "df_cross_join.with_columns(\n",
    "    similarity_ratio=pl.struct(\"description\", \"description_right\")\n",
    "            .map_batches(\n",
    "                lambda combined: fuzzy_similarity(combined.struct.field(\"description\"), combined.struct.field(\"description_right\")),\n",
    "                is_elementwise=True\n",
    "            )\n",
    "    )"
   ]
  },
  {
   "cell_type": "code",
   "execution_count": 4,
   "metadata": {},
   "outputs": [
    {
     "name": "stdout",
     "output_type": "stream",
     "text": [
      "shape: (3,)\n",
      "Series: 'values1' [i64]\n",
      "[\n",
      "\t1\n",
      "\t2\n",
      "\t3\n",
      "], shape: (3,)\n",
      "Series: 'values2' [i64]\n",
      "[\n",
      "\t10\n",
      "\t20\n",
      "\t30\n",
      "]\n"
     ]
    },
    {
     "data": {
      "text/html": [
       "<div><style>\n",
       ".dataframe > thead > tr,\n",
       ".dataframe > tbody > tr {\n",
       "  text-align: right;\n",
       "  white-space: pre-wrap;\n",
       "}\n",
       "</style>\n",
       "<small>shape: (3, 3)</small><table border=\"1\" class=\"dataframe\"><thead><tr><th>values1</th><th>values2</th><th>plugs</th></tr><tr><td>i64</td><td>i64</td><td>i64</td></tr></thead><tbody><tr><td>1</td><td>10</td><td>11</td></tr><tr><td>2</td><td>20</td><td>22</td></tr><tr><td>3</td><td>30</td><td>33</td></tr></tbody></table></div>"
      ],
      "text/plain": [
       "shape: (3, 3)\n",
       "┌─────────┬─────────┬───────┐\n",
       "│ values1 ┆ values2 ┆ plugs │\n",
       "│ ---     ┆ ---     ┆ ---   │\n",
       "│ i64     ┆ i64     ┆ i64   │\n",
       "╞═════════╪═════════╪═══════╡\n",
       "│ 1       ┆ 10      ┆ 11    │\n",
       "│ 2       ┆ 20      ┆ 22    │\n",
       "│ 3       ┆ 30      ┆ 33    │\n",
       "└─────────┴─────────┴───────┘"
      ]
     },
     "execution_count": 4,
     "metadata": {},
     "output_type": "execute_result"
    }
   ],
   "source": [
    "# Add two arrays together:\n",
    "# @guvectorize([(int64[:], int64[:], float64[:])], \"(n),(n)->(n)\")\n",
    "def add(arr, arr2):\n",
    "    #result = [0]*len(arr)\n",
    "    print(f\"{arr}, {arr2}\")\n",
    "    return arr + arr2\n",
    "\n",
    "df3 = pl.DataFrame({\"values1\": [1, 2, 3], \"values2\": [10, 20, 30]})\n",
    "\n",
    "df3.with_columns(\n",
    "    # Create a struct that has two columns in it:\n",
    "    plugs=pl.struct(\"values1\", \"values2\")\n",
    "            .map_batches(\n",
    "                lambda combined: add(combined.struct.field(\"values1\"), combined.struct.field(\"values2\"))\n",
    "            )\n",
    "    )"
   ]
  }
 ],
 "metadata": {
  "kernelspec": {
   "display_name": "base",
   "language": "python",
   "name": "python3"
  },
  "language_info": {
   "codemirror_mode": {
    "name": "ipython",
    "version": 3
   },
   "file_extension": ".py",
   "mimetype": "text/x-python",
   "name": "python",
   "nbconvert_exporter": "python",
   "pygments_lexer": "ipython3",
   "version": "3.11.7"
  }
 },
 "nbformat": 4,
 "nbformat_minor": 2
}
